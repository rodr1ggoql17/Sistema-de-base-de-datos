{
  "nbformat": 4,
  "nbformat_minor": 0,
  "metadata": {
    "colab": {
      "provenance": [],
      "authorship_tag": "ABX9TyN3ZVdg3rfaweULHu4vMUwk",
      "include_colab_link": true
    },
    "kernelspec": {
      "name": "python3",
      "display_name": "Python 3"
    },
    "language_info": {
      "name": "python"
    }
  },
  "cells": [
    {
      "cell_type": "markdown",
      "metadata": {
        "id": "view-in-github",
        "colab_type": "text"
      },
      "source": [
        "<a href=\"https://colab.research.google.com/github/rodr1ggoql17/Sistema-de-base-de-datos/blob/main/clavesSQL_basicas.ipynb\" target=\"_parent\"><img src=\"https://colab.research.google.com/assets/colab-badge.svg\" alt=\"Open In Colab\"/></a>"
      ]
    },
    {
      "cell_type": "code",
      "execution_count": null,
      "metadata": {
        "id": "i88oqbq7l1K9"
      },
      "outputs": [],
      "source": [
        "import sqlite3 as sq"
      ]
    },
    {
      "cell_type": "code",
      "source": [
        "conexion = sq.connect('usuarios.db')\n",
        "cursor = conexion.cursor()"
      ],
      "metadata": {
        "id": "MiyDqtAxl_hi"
      },
      "execution_count": null,
      "outputs": []
    },
    {
      "cell_type": "code",
      "source": [
        "# creamos un campo dni como clave primaria\n",
        "cursor.execute('''CREATE TABLE IF NOT EXISTS usuarios (\n",
        "  dni VARCHAR(9) PRIMARY KEY,\n",
        "  nombre VARCHAR(100),\n",
        "  edad INTEGER,\n",
        "  email VARCHAR(100))''')\n",
        "\n",
        "usuarios = [('11111111A','Hector',27,'hector@ejemplo.com'),\n",
        "            ('22222222B','Mario',51,'mario@ejemplo.com'),\n",
        "            ('33333333C','Mercedes',38,'mercedes@ejemplo.com'),\n",
        "            ('44444444D','Rodrigo',20,'rreyesm@nasa.eu')]\n",
        "cursor.executemany(\"INSERT INTO usuarios VALUES (?,?,?,?)\",usuarios)\n",
        "conexion.commit()"
      ],
      "metadata": {
        "id": "j52F1ARPmTmB"
      },
      "execution_count": null,
      "outputs": []
    },
    {
      "cell_type": "code",
      "source": [
        "# comprobamos que al ingresar un dato duplicado nos arroja un error (esto es dado que la primary key se repite)\n",
        "cursor = conexion.cursor()\n",
        "# Añadimos un usuario con el mismo DNI\n",
        "cursor.execute(\"INSERT INTO usuarios VALUES \" \\\n",
        "    \"('11111111A', 'Fernando', 31, 'fernando@ejemplo.com')\")\n",
        "conexion.commit()"
      ],
      "metadata": {
        "colab": {
          "base_uri": "https://localhost:8080/",
          "height": 235
        },
        "id": "1TFwUWksoAVr",
        "outputId": "d598a1f2-b6d5-40f1-de6a-14fe5fb9de21"
      },
      "execution_count": null,
      "outputs": [
        {
          "output_type": "error",
          "ename": "IntegrityError",
          "evalue": "ignored",
          "traceback": [
            "\u001b[0;31m---------------------------------------------------------------------------\u001b[0m",
            "\u001b[0;31mIntegrityError\u001b[0m                            Traceback (most recent call last)",
            "\u001b[0;32m<ipython-input-4-c6e8669e6d89>\u001b[0m in \u001b[0;36m<module>\u001b[0;34m\u001b[0m\n\u001b[1;32m      2\u001b[0m \u001b[0mcursor\u001b[0m \u001b[0;34m=\u001b[0m \u001b[0mconexion\u001b[0m\u001b[0;34m.\u001b[0m\u001b[0mcursor\u001b[0m\u001b[0;34m(\u001b[0m\u001b[0;34m)\u001b[0m\u001b[0;34m\u001b[0m\u001b[0;34m\u001b[0m\u001b[0m\n\u001b[1;32m      3\u001b[0m \u001b[0;31m# Añadimos un usuario con el mismo DNI\u001b[0m\u001b[0;34m\u001b[0m\u001b[0;34m\u001b[0m\u001b[0;34m\u001b[0m\u001b[0m\n\u001b[0;32m----> 4\u001b[0;31m cursor.execute(\"INSERT INTO usuarios VALUES \" \\\n\u001b[0m\u001b[1;32m      5\u001b[0m     \"('11111111A', 'Fernando', 31, 'fernando@ejemplo.com')\")\n\u001b[1;32m      6\u001b[0m \u001b[0mconexion\u001b[0m\u001b[0;34m.\u001b[0m\u001b[0mcommit\u001b[0m\u001b[0;34m(\u001b[0m\u001b[0;34m)\u001b[0m\u001b[0;34m\u001b[0m\u001b[0;34m\u001b[0m\u001b[0m\n",
            "\u001b[0;31mIntegrityError\u001b[0m: UNIQUE constraint failed: usuarios.dni"
          ]
        }
      ]
    },
    {
      "cell_type": "markdown",
      "source": [
        "#Claves autoincrementales\n",
        "No siempre contaremos con claves primarias en nuestras tablas (como el DNI), sin embargo siempre necesitaremos uno para identificar cada registro y poder consultarlo, modificarlo o borrarlo.\n",
        "\n",
        "Para estas situaciones lo más útil es utilizar campos autoincrementales, campos especiales que asignan automáticamente un número (de uno en uno) al crear un nuevo registro. Es muy útil para identificar de forma única cada registro ya que nunca se repiten.\n",
        "\n",
        "En SQLite, si indicamos que un campo numérico entero es una clave primaria, automáticamente se tomará como un campo auto incremental. Podemos hacerlo fácilmente así:\n"
      ],
      "metadata": {
        "id": "xzdhNDHWomO4"
      }
    },
    {
      "cell_type": "code",
      "source": [
        "# creamos una base de datos de productos\n",
        "conexion = sq.connect('productos.db')\n",
        "cursor = conexion.cursor()\n",
        "\n",
        "# not null -> indica que los campos no pueden ser vacios\n",
        "cursor.execute('''\n",
        "    CREATE TABLE IF NOT EXISTS productos(\n",
        "      id INTEGER PRIMARY KEY AUTOINCREMENT,\n",
        "      nombre VARCHAR(100) NOT NULL,\n",
        "      marca VARCHAR(50) NOT NULL,\n",
        "      precio FLOAT NOT NULL)''')"
      ],
      "metadata": {
        "colab": {
          "base_uri": "https://localhost:8080/"
        },
        "id": "pJI_KXKoopXw",
        "outputId": "d54b7c6f-106a-4e9f-fa09-9a0cd6c05271"
      },
      "execution_count": null,
      "outputs": [
        {
          "output_type": "execute_result",
          "data": {
            "text/plain": [
              "<sqlite3.Cursor at 0x7f5a1d2c0880>"
            ]
          },
          "metadata": {},
          "execution_count": 5
        }
      ]
    },
    {
      "cell_type": "markdown",
      "source": [
        "#¡Problema al insertar registros con campos autoincrementales!\n",
        "\n",
        "Al utilizar un nuevo campo autoincremental, la sintaxis sencilla para insertar registros ya no funciona, pues en primer lugar se espera un identificador único, por lo que recibimos un error indicándonos se esperan 4 columnas en lugar de 3:"
      ],
      "metadata": {
        "id": "nPQb4NwMpt1h"
      }
    },
    {
      "cell_type": "code",
      "source": [
        "cursor = conexion.cursor()\n",
        "productos = [('Teclado', 'Logitech', 19.95),\n",
        "            ('Pantalla 19\"' 'LG', 89.95),]\n",
        "cursor.executemany(\"INSERT INTO productos VALUES (?,?,?)\", productos)\n",
        "conexion.commit()"
      ],
      "metadata": {
        "colab": {
          "base_uri": "https://localhost:8080/",
          "height": 217
        },
        "id": "NbVBNpZnpxHw",
        "outputId": "a94c4d0c-bdb0-4ac0-e461-b982b81845d4"
      },
      "execution_count": null,
      "outputs": [
        {
          "output_type": "error",
          "ename": "OperationalError",
          "evalue": "ignored",
          "traceback": [
            "\u001b[0;31m---------------------------------------------------------------------------\u001b[0m",
            "\u001b[0;31mOperationalError\u001b[0m                          Traceback (most recent call last)",
            "\u001b[0;32m<ipython-input-6-0b4b5406e226>\u001b[0m in \u001b[0;36m<module>\u001b[0;34m\u001b[0m\n\u001b[1;32m      2\u001b[0m productos = [('Teclado', 'Logitech', 19.95),\n\u001b[1;32m      3\u001b[0m             ('Pantalla 19\"' 'LG', 89.95),]\n\u001b[0;32m----> 4\u001b[0;31m \u001b[0mcursor\u001b[0m\u001b[0;34m.\u001b[0m\u001b[0mexecutemany\u001b[0m\u001b[0;34m(\u001b[0m\u001b[0;34m\"INSERT INTO productos VALUES (?,?,?)\"\u001b[0m\u001b[0;34m,\u001b[0m \u001b[0mproductos\u001b[0m\u001b[0;34m)\u001b[0m\u001b[0;34m\u001b[0m\u001b[0;34m\u001b[0m\u001b[0m\n\u001b[0m\u001b[1;32m      5\u001b[0m \u001b[0mconexion\u001b[0m\u001b[0;34m.\u001b[0m\u001b[0mcommit\u001b[0m\u001b[0;34m(\u001b[0m\u001b[0;34m)\u001b[0m\u001b[0;34m\u001b[0m\u001b[0;34m\u001b[0m\u001b[0m\n",
            "\u001b[0;31mOperationalError\u001b[0m: table productos has 4 columns but 3 values were supplied"
          ]
        }
      ]
    },
    {
      "cell_type": "markdown",
      "source": [
        "# Para resolver este problema"
      ],
      "metadata": {
        "id": "QNZY1AaZp54H"
      }
    },
    {
      "cell_type": "code",
      "source": [
        "cursor = conexion.cursor()\n",
        "productos = [('Teclado', 'Logitech', 19.95),\n",
        "            ('Pantalla 19\"','LG', 89.95),\n",
        "            ('Altavoces 2.1','LG', 24.95),]\n",
        "cursor.executemany(\"INSERT INTO productos VALUES (null,?,?,?)\",productos)\n",
        "conexion.commit()"
      ],
      "metadata": {
        "id": "1DSMWFICp5D4"
      },
      "execution_count": null,
      "outputs": []
    },
    {
      "cell_type": "code",
      "source": [
        "# ahora podemos consultar productos por su identificador unico\n",
        "cursor = conexion.cursor()\n",
        "cursor.execute(\"SELECT * FROM productos\")\n",
        "productos = cursor.fetchall()\n",
        "conexion.commit()"
      ],
      "metadata": {
        "id": "cMRlqHb5qUDr"
      },
      "execution_count": null,
      "outputs": []
    },
    {
      "cell_type": "code",
      "source": [
        "# ver\n",
        "productos"
      ],
      "metadata": {
        "colab": {
          "base_uri": "https://localhost:8080/"
        },
        "id": "dDHNNzBhqrfx",
        "outputId": "2722b91a-077b-4c8f-c61a-a9fc69667eb5"
      },
      "execution_count": null,
      "outputs": [
        {
          "output_type": "execute_result",
          "data": {
            "text/plain": [
              "[(1, 'Teclado', 'Logitech', 19.95),\n",
              " (2, 'Pantalla 19\"', 'LG', 89.95),\n",
              " (3, 'Altavoces 2.1', 'LG', 24.95)]"
            ]
          },
          "metadata": {},
          "execution_count": 9
        }
      ]
    },
    {
      "cell_type": "markdown",
      "source": [
        "# Claves únicas\n",
        "El problema con las claves primarias es que sólo podemos tener un campo con esta propiedad, y si da la casualidad que utilizamos un campo autoincremental, ya no podemos asignarla a otro campo.\n",
        "\n",
        "Para estos casos existen las claves únicas, que nos permiten añadir otros campos únicos no repetibles.\n",
        "\n",
        "Podemos adaptar el ejemplo de los usuarios con un campo autoincremental que haga de clave primaria, y a su vez marcar el DNI como un campo único:"
      ],
      "metadata": {
        "id": "loTsAjPCrfGQ"
      }
    },
    {
      "cell_type": "code",
      "source": [
        "cursor = conexion.cursor()\n",
        "\n",
        "# dni es primary key\n",
        "cursor.execute('''CREATE TABLE IF NOT EXISTS usuarios (\n",
        "                    id INTEGER PRIMARY KEY,\n",
        "                    dni VARCHAR(9) UNIQUE,\n",
        "                    nombre VARCHAR(100), \n",
        "                    edad INTEGER(3),\n",
        "                    email VARCHAR(100))''')\n",
        "usuarios = [('11111111A', 'Hector', 27, 'hector@ejemplo.com'),\n",
        "            ('22222222B', 'Mario', 51, 'mario@ejemplo.com'),\n",
        "            ('33333333C', 'Mercedes', 38, 'mercedes@ejemplo.com'),\n",
        "            ('44444444D', 'Juan', 19, 'juan@ejemplo.com')]\n",
        "\n",
        "cursor.executemany(\"INSERT INTO usuarios VALUES (null, ?,?,?,?)\", usuarios)\n",
        "conexion.commit()"
      ],
      "metadata": {
        "id": "-nRdtpmlrCTB"
      },
      "execution_count": null,
      "outputs": []
    },
    {
      "cell_type": "code",
      "source": [
        "# si ingresamos un usuario con la misma clave nos arroja error\n",
        "cursor = conexion.cursor()\n",
        "cursor.execute(\"INSERT INTO usuarios VALUES \" \\\n",
        "    \"(null, '11111111A', 'Fernando', 31, 'fernando@ejemplo.com')\")\n",
        "\n",
        "conexion.commit()"
      ],
      "metadata": {
        "colab": {
          "base_uri": "https://localhost:8080/",
          "height": 235
        },
        "id": "hj9ICSjKrtrg",
        "outputId": "4cc3d67c-fee9-4a1a-d45e-55aa5a4da775"
      },
      "execution_count": null,
      "outputs": [
        {
          "output_type": "error",
          "ename": "IntegrityError",
          "evalue": "ignored",
          "traceback": [
            "\u001b[0;31m---------------------------------------------------------------------------\u001b[0m",
            "\u001b[0;31mIntegrityError\u001b[0m                            Traceback (most recent call last)",
            "\u001b[0;32m<ipython-input-11-36b62a83701d>\u001b[0m in \u001b[0;36m<module>\u001b[0;34m\u001b[0m\n\u001b[1;32m      1\u001b[0m \u001b[0;31m# si ingresamos un usuario con la misma clave nos arroja error\u001b[0m\u001b[0;34m\u001b[0m\u001b[0;34m\u001b[0m\u001b[0;34m\u001b[0m\u001b[0m\n\u001b[1;32m      2\u001b[0m \u001b[0mcursor\u001b[0m \u001b[0;34m=\u001b[0m \u001b[0mconexion\u001b[0m\u001b[0;34m.\u001b[0m\u001b[0mcursor\u001b[0m\u001b[0;34m(\u001b[0m\u001b[0;34m)\u001b[0m\u001b[0;34m\u001b[0m\u001b[0;34m\u001b[0m\u001b[0m\n\u001b[0;32m----> 3\u001b[0;31m cursor.execute(\"INSERT INTO usuarios VALUES \" \\\n\u001b[0m\u001b[1;32m      4\u001b[0m     \"(null, '11111111A', 'Fernando', 31, 'fernando@ejemplo.com')\")\n\u001b[1;32m      5\u001b[0m \u001b[0;34m\u001b[0m\u001b[0m\n",
            "\u001b[0;31mIntegrityError\u001b[0m: UNIQUE constraint failed: usuarios.dni"
          ]
        }
      ]
    },
    {
      "cell_type": "code",
      "source": [
        "usuarios"
      ],
      "metadata": {
        "colab": {
          "base_uri": "https://localhost:8080/"
        },
        "id": "dka3AvlXuua5",
        "outputId": "880e76a5-17c2-485d-bccb-e2b2c3bbc1c3"
      },
      "execution_count": null,
      "outputs": [
        {
          "output_type": "execute_result",
          "data": {
            "text/plain": [
              "[('11111111A', 'Hector', 27, 'hector@ejemplo.com'),\n",
              " ('22222222B', 'Mario', 51, 'mario@ejemplo.com'),\n",
              " ('33333333C', 'Mercedes', 38, 'mercedes@ejemplo.com'),\n",
              " ('44444444D', 'Juan', 19, 'juan@ejemplo.com')]"
            ]
          },
          "metadata": {},
          "execution_count": 14
        }
      ]
    },
    {
      "cell_type": "code",
      "source": [
        "conexion = sq.connect('productos.db')\n",
        "cursor = conexion.cursor()\n",
        "# con la ventaja de contar con un identificador automático para cada registro:\n",
        "cursor = conexion.cursor()\n",
        "# Recuperamos los registros de la tabla de usuarios\n",
        "cursor.execute(\"SELECT * FROM usuarios\")\n",
        "\n",
        "# Recorremos todos los registros con fetchall\n",
        "# y los volcamos en una lista de usuarios\n",
        "usuarios = cursor.fetchall()\n",
        "usuarios"
      ],
      "metadata": {
        "colab": {
          "base_uri": "https://localhost:8080/"
        },
        "id": "9lBlTnhlsYpS",
        "outputId": "3f8635d9-5142-4ba6-edd4-7adaea7b428f"
      },
      "execution_count": null,
      "outputs": [
        {
          "output_type": "execute_result",
          "data": {
            "text/plain": [
              "[(1, '11111111A', 'Hector', 27, 'hector@ejemplo.com'),\n",
              " (2, '22222222B', 'Mario', 51, 'mario@ejemplo.com'),\n",
              " (3, '33333333C', 'Mercedes', 38, 'mercedes@ejemplo.com'),\n",
              " (4, '44444444D', 'Juan', 19, 'juan@ejemplo.com')]"
            ]
          },
          "metadata": {},
          "execution_count": 28
        }
      ]
    },
    {
      "cell_type": "code",
      "source": [],
      "metadata": {
        "id": "juMntgOJxwjo"
      },
      "execution_count": null,
      "outputs": []
    }
  ]
}