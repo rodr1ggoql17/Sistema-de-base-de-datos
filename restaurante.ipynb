{
  "nbformat": 4,
  "nbformat_minor": 0,
  "metadata": {
    "colab": {
      "provenance": [],
      "authorship_tag": "ABX9TyNl4Z1+0Ab+6ZIvDsupOanx",
      "include_colab_link": true
    },
    "kernelspec": {
      "name": "python3",
      "display_name": "Python 3"
    },
    "language_info": {
      "name": "python"
    }
  },
  "cells": [
    {
      "cell_type": "markdown",
      "metadata": {
        "id": "view-in-github",
        "colab_type": "text"
      },
      "source": [
        "<a href=\"https://colab.research.google.com/github/rodr1ggoql17/Sistema-de-base-de-datos/blob/main/restaurante.ipynb\" target=\"_parent\"><img src=\"https://colab.research.google.com/assets/colab-badge.svg\" alt=\"Open In Colab\"/></a>"
      ]
    },
    {
      "cell_type": "code",
      "execution_count": null,
      "metadata": {
        "id": "ItwHZhe5DmPe"
      },
      "outputs": [],
      "source": [
        "import sqlite3 as sq"
      ]
    },
    {
      "cell_type": "code",
      "source": [
        "def crear_db():\n",
        "  conexion = sq.connect('restaurante.db')\n",
        "  cursor = conexion.cursor()\n",
        "  # crear las tablas\n",
        "  cursor.execute(\"CREATE TABLE categoria( id INTEGER PRIMARY KEY AUTOINCREMENT,nombre VARCHAR(100) UNIQUE NOT NULL)\")\n",
        "  cursor.execute(\"CREATE TABLE plato(id INTEGER PRIMARY KEY AUTOINCREMENT, nombre VARCHAR(100) UNIQUE NOT NULL, categoria_id INTEGER NOT NULL, FOREIGN KEY (categoria_id) REFERENCES categoria(id))\")\n",
        "  conexion.commit()"
      ],
      "metadata": {
        "id": "MJuDOl9qDq9j"
      },
      "execution_count": null,
      "outputs": []
    },
    {
      "cell_type": "code",
      "source": [
        "def agregar_categoria():\n",
        "  conexion = sq.connect('restaurante.db')\n",
        "  categoria_ingresar = input('Ingrese la categoria que desea ingresar: ')\n",
        "  cursor = conexion.cursor()\n",
        "  cursor.execute(\"INSERT INTO categoria VALUES\" , categoria_ingresar)\n",
        "  conexion.commit()"
      ],
      "metadata": {
        "id": "IYRQkdopFlSt"
      },
      "execution_count": null,
      "outputs": []
    },
    {
      "cell_type": "code",
      "source": [
        "def agregar_plato():\n",
        "  conexion = sq.connect('restaurante.db')\n",
        "  nombre_plato = input('Ingrese el nombre del plato: ')\n",
        "  cursor = conexion.cursor()\n",
        "  cursor.execute(\"INSERT INTO plato VALUES\" , nombre_plato)"
      ],
      "metadata": {
        "id": "O2zO_8oZJkDc"
      },
      "execution_count": null,
      "outputs": []
    },
    {
      "cell_type": "code",
      "source": [
        "def mostrar_menu():\n",
        "  print('Bienvenido Al Restaurante Y ME LE OCURRIO OTRA IDEA')\n",
        "  print('Menu de opciones (Agregar plato): ')\n",
        "  print('1.Primeros')\n",
        "  print('2.Segundos')\n",
        "  print('3.Postres')\n",
        "  resp = int(input('Ingrese su respuesta: '))\n",
        "  agregar_categoria()"
      ],
      "metadata": {
        "id": "7ZiIeuWGIahl"
      },
      "execution_count": null,
      "outputs": []
    },
    {
      "cell_type": "code",
      "source": [
        "def mostrar_menu2():\n",
        "  conexion = conexion.connect('restaurante.db')\n",
        "  cursor = conexion.cursor()\n",
        "  cursor.execute(\"SELECT * FROM platos ORDER BY id ASC\")"
      ],
      "metadata": {
        "id": "xkqUXwoNNDjc"
      },
      "execution_count": null,
      "outputs": []
    },
    {
      "cell_type": "code",
      "source": [
        "while True:\n",
        "  print('RESTAURANTE Y ME LE OCURRIO OTRA IDEA')\n",
        "  print('1.Conexion base de datos')\n",
        "  print('2.Agregar categoria')\n",
        "  print('3.Agregar plato')\n",
        "  print('4.Ver platos')\n",
        "  print('5.Salir')\n",
        "  r = int(input('Respuesta:'))\n",
        "  if r==1:\n",
        "    crear_db()\n",
        "  elif r==2:\n",
        "    mostrar_menu()\n",
        "  elif r==3:\n",
        "    agregar_plato()\n",
        "  elif r==4:\n",
        "    mostrar_menu2() \n",
        "  elif r==5:\n",
        "    break\n",
        "  else:\n",
        "    print('Respuesta invalida')"
      ],
      "metadata": {
        "colab": {
          "base_uri": "https://localhost:8080/"
        },
        "id": "iM0-KZ2EO2YE",
        "outputId": "d5718b50-d902-4108-afd5-a21fa0b9aa62"
      },
      "execution_count": null,
      "outputs": [
        {
          "name": "stdout",
          "output_type": "stream",
          "text": [
            "RESTAURANTE Y ME LE OCURRIO OTRA IDEA\n",
            "1.Conexion base de datos\n",
            "2.Agregar categoria\n",
            "3.Agregar plato\n",
            "4.Ver platos\n",
            "Respuesta:1\n"
          ]
        }
      ]
    }
  ]
}