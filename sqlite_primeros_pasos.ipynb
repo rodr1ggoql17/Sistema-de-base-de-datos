{
  "nbformat": 4,
  "nbformat_minor": 0,
  "metadata": {
    "colab": {
      "provenance": []
    },
    "kernelspec": {
      "name": "python3",
      "display_name": "Python 3"
    },
    "language_info": {
      "name": "python"
    }
  },
  "cells": [
    {
      "cell_type": "code",
      "execution_count": null,
      "metadata": {
        "id": "kGt9tkaQdJSY"
      },
      "outputs": [],
      "source": [
        "import sqlite3 as sq"
      ]
    },
    {
      "cell_type": "code",
      "source": [
        "conexion = sq.connect('ejemplo.db') # se conecta a la base de datos (si no existe la crea)\n",
        "conexion"
      ],
      "metadata": {
        "colab": {
          "base_uri": "https://localhost:8080/"
        },
        "id": "4xsTNACkdcBD",
        "outputId": "0ca90a53-e272-4171-f2b9-4fcff1925b41"
      },
      "execution_count": null,
      "outputs": [
        {
          "output_type": "execute_result",
          "data": {
            "text/plain": [
              "<sqlite3.Connection at 0x7f477eb1ff10>"
            ]
          },
          "metadata": {},
          "execution_count": 4
        }
      ]
    },
    {
      "cell_type": "code",
      "source": [
        "# crear una tabla \n",
        "# primero creamos el cursor\n",
        "cursor = conexion.cursor()"
      ],
      "metadata": {
        "id": "iWeaPx83dnDB"
      },
      "execution_count": null,
      "outputs": []
    },
    {
      "cell_type": "code",
      "source": [
        "# creamos tabla con nombre de usuario, edades y emails\n",
        "cursor.execute(\"CREATE TABLE IF NOT EXISTS usuarios\" \\\n",
        "               \"(nombre VARCHAR(100),edad INTEGER, email VARCHAR(100))\")"
      ],
      "metadata": {
        "colab": {
          "base_uri": "https://localhost:8080/"
        },
        "id": "aWNnVLdLeT74",
        "outputId": "762516c9-15d2-43cc-83b3-28ba9b49b2e2"
      },
      "execution_count": null,
      "outputs": [
        {
          "output_type": "execute_result",
          "data": {
            "text/plain": [
              "<sqlite3.Cursor at 0x7f4779b78340>"
            ]
          },
          "metadata": {},
          "execution_count": 7
        }
      ]
    },
    {
      "cell_type": "code",
      "source": [
        "# guardamos los cambios\n",
        "conexion.commit()"
      ],
      "metadata": {
        "id": "AHouLroKe12p"
      },
      "execution_count": null,
      "outputs": []
    },
    {
      "cell_type": "code",
      "source": [
        "# inserion con INSERT\n",
        "cursor = conexion.cursor()\n",
        "# insertamos un registro en la tabla de datos\n",
        "cursor.execute(\"INSERT INTO usuarios VALUES \"\\\n",
        "               \"('Hector',27,'hector@nasa.eu')\")\n",
        "# guardamos los cambios\n",
        "conexion.commit()"
      ],
      "metadata": {
        "id": "TisqKHYne_Tp"
      },
      "execution_count": null,
      "outputs": []
    },
    {
      "cell_type": "code",
      "source": [
        "# lectura\n",
        "cursor = conexion.cursor()\n",
        "cursor.execute(\"SELECT * FROM usuarios\")"
      ],
      "metadata": {
        "colab": {
          "base_uri": "https://localhost:8080/"
        },
        "id": "Ngj5V7edi1Ut",
        "outputId": "1cc2fea5-f210-4b98-fe68-5d739c72aeba"
      },
      "execution_count": null,
      "outputs": [
        {
          "output_type": "execute_result",
          "data": {
            "text/plain": [
              "<sqlite3.Cursor at 0x7f4779b8ff10>"
            ]
          },
          "metadata": {},
          "execution_count": 18
        }
      ]
    },
    {
      "cell_type": "code",
      "source": [
        "print(cursor)"
      ],
      "metadata": {
        "colab": {
          "base_uri": "https://localhost:8080/"
        },
        "id": "gSwrustxjJmB",
        "outputId": "4a18b317-ff5c-490a-d36f-8c3ed53d8dea"
      },
      "execution_count": null,
      "outputs": [
        {
          "output_type": "stream",
          "name": "stdout",
          "text": [
            "<sqlite3.Cursor object at 0x7f4779b8ff10>\n"
          ]
        }
      ]
    },
    {
      "cell_type": "code",
      "source": [
        "# Recorremos el primer registro con el método fetchone, devuelve una tupla\n",
        "usuario = cursor.fetchone()\n",
        "print(usuario)"
      ],
      "metadata": {
        "colab": {
          "base_uri": "https://localhost:8080/"
        },
        "id": "cMwIg2qBjONp",
        "outputId": "ba3c9ba7-abf7-47f4-b9b8-c3e7f8fd6871"
      },
      "execution_count": null,
      "outputs": [
        {
          "output_type": "stream",
          "name": "stdout",
          "text": [
            "('Hector', 27, 'hector@nasa.eu')\n"
          ]
        }
      ]
    },
    {
      "cell_type": "code",
      "source": [
        "# insercion multiple\n",
        "usuarios = [('CR7', 37, 'elbichosiuu@cristiano.com'),\n",
        "            ('Sebastian', 99, 'sebastian.pinera@gob.cl'),\n",
        "            ('Rodrigo', 20, 'rreyesm@nasa.eu')]"
      ],
      "metadata": {
        "id": "DPaS4H9fjgy4"
      },
      "execution_count": null,
      "outputs": []
    },
    {
      "cell_type": "code",
      "source": [
        "# el metodo executemany() sirve para insertar varios \n",
        "cursor.executemany(\"INSERT INTO usuarios VALUES (?,?,?)\", usuarios)\n",
        "conexion.commit()"
      ],
      "metadata": {
        "id": "OCla0S0hkOqh"
      },
      "execution_count": null,
      "outputs": []
    },
    {
      "cell_type": "code",
      "source": [
        "#lectura multiple\n",
        "cursor.execute(\"SELECT * FROM usuarios\")\n",
        "users = cursor.fetchall()"
      ],
      "metadata": {
        "id": "9VNwYo1Mkqph"
      },
      "execution_count": null,
      "outputs": []
    },
    {
      "cell_type": "code",
      "source": [
        "# mostramos los datos\n",
        "users"
      ],
      "metadata": {
        "colab": {
          "base_uri": "https://localhost:8080/"
        },
        "id": "d5pl9y04k9hw",
        "outputId": "6bc6c472-65e6-43ee-fdfa-2d02a0f47cb7"
      },
      "execution_count": null,
      "outputs": [
        {
          "output_type": "execute_result",
          "data": {
            "text/plain": [
              "[('Hector', 27, 'hector@nasa.eu'),\n",
              " ('Hector', 27, 'hector@nasa.eu'),\n",
              " ('CR7', 37, 'elbichosiuu@cristiano.com'),\n",
              " ('Sebastian', 99, 'sebastian.pinera@gob.cl'),\n",
              " ('Rodrigo', 20, 'rreyesm@nasa.eu')]"
            ]
          },
          "metadata": {},
          "execution_count": 25
        }
      ]
    },
    {
      "cell_type": "code",
      "source": [
        "# cerramos la conexion\n",
        "conexion.close()"
      ],
      "metadata": {
        "id": "MDle1rSTlD9Z"
      },
      "execution_count": null,
      "outputs": []
    }
  ]
}